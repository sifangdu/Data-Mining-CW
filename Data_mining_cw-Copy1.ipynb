{
 "cells": [
  {
   "cell_type": "markdown",
   "metadata": {},
   "source": [
    "# 1. Introduction \n",
    "\n",
    "A brief description of your approach to the problem and the results that you have obtained on the training data."
   ]
  },
  {
   "cell_type": "markdown",
   "metadata": {},
   "source": [
    "<font color=\"red\"><b>!!!!!!!! FILL THIS IN PLS<b>"
   ]
  },
  {
   "cell_type": "markdown",
   "metadata": {},
   "source": [
    "# 2. Importing Libraries\n",
    "\n",
    "This section is how you import the data into the notebook. It should be written in such a way that I can modify it to run on my own machine by simply changing the location of the training data and any additional data sources that you have used.\n"
   ]
  },
  {
   "cell_type": "code",
   "execution_count": 172,
   "metadata": {},
   "outputs": [
    {
     "data": {
      "text/html": [
       "        <script type=\"text/javascript\">\n",
       "        window.PlotlyConfig = {MathJaxConfig: 'local'};\n",
       "        if (window.MathJax) {MathJax.Hub.Config({SVG: {font: \"STIX-Web\"}});}\n",
       "        if (typeof require !== 'undefined') {\n",
       "        require.undef(\"plotly\");\n",
       "        requirejs.config({\n",
       "            paths: {\n",
       "                'plotly': ['https://cdn.plot.ly/plotly-latest.min']\n",
       "            }\n",
       "        });\n",
       "        require(['plotly'], function(Plotly) {\n",
       "            window._Plotly = Plotly;\n",
       "        });\n",
       "        }\n",
       "        </script>\n",
       "        "
      ]
     },
     "metadata": {},
     "output_type": "display_data"
    }
   ],
   "source": [
    "import numpy as np\n",
    "import pandas as pd\n",
    "import pandas_profiling\n",
    "from time import time\n",
    "from IPython.display import display # Allows the use of display() for DataFrames\n",
    "\n",
    "from sklearn.ensemble import RandomForestClassifier,GradientBoostingClassifier,AdaBoostClassifier,BaggingClassifier\n",
    "from sklearn.tree import DecisionTreeClassifier\n",
    "from sklearn.preprocessing import StandardScaler,MinMaxScaler\n",
    "from sklearn.metrics import fbeta_score,accuracy_score \n",
    "\n",
    "import matplotlib.pyplot as plt\n",
    "import matplotlib.patches as mpatches\n",
    "import seaborn as sns\n",
    "import cufflinks as cf\n",
    "import plotly.offline\n",
    "cf.go_offline()\n",
    "cf.set_config_file(offline = False, world_readable = True)\n",
    "%matplotlib inline\n",
    "\n",
    "import visuals as vs\n"
   ]
  },
  {
   "cell_type": "markdown",
   "metadata": {},
   "source": [
    "# Data dictionary\n",
    "Below is a data dictionary from https://www.kaggle.com/yapsoonchung/eda-on-default-of-credit-card-clients-dataset/comments"
   ]
  },
  {
   "cell_type": "raw",
   "metadata": {},
   "source": [
    "Dataset Features :\n",
    "ID: ID of each client\n",
    "LIMIT_BAL: Amount of given credit in NT dollars (includes individual and family/supplementary credit\n",
    "SEX: Gender (1=male, 2=female)\n",
    "EDUCATION: (1=graduate school, 2=university, 3=high school, 4=others, 5=unknown, 6=unknown)\n",
    "MARRIAGE: Marital status (1=married, 2=single, 3=others)\n",
    "AGE: Age in years\n",
    "PAY_1: Repayment status in September, 2005 (-2 = no, consumption, -1=pay duly, 1=payment delay for one month, 2=payment delay for two months, ... 8=payment delay for eight months, 9=payment delay for nine months and above)\n",
    "PAY_2: Repayment status in August, 2005 (scale same as above)\n",
    "PAY_3: Repayment status in July, 2005 (scale same as above)\n",
    "PAY_4: Repayment status in June, 2005 (scale same as above)\n",
    "PAY_5: Repayment status in May, 2005 (scale same as above)\n",
    "PAY_6: Repayment status in April, 2005 (scale same as above)\n",
    "BILL_AMT1: Amount of bill statement in September, 2005 (NT dollar)\n",
    "BILL_AMT2: Amount of bill statement in August, 2005 (NT dollar)\n",
    "BILL_AMT3: Amount of bill statement in July, 2005 (NT dollar)\n",
    "BILL_AMT4: Amount of bill statement in June, 2005 (NT dollar)\n",
    "BILL_AMT5: Amount of bill statement in May, 2005 (NT dollar)\n",
    "BILL_AMT6: Amount of bill statement in April, 2005 (NT dollar)\n",
    "PAY_AMT1: Amount of previous payment in September, 2005 (NT dollar)\n",
    "PAY_AMT2: Amount of previous payment in August, 2005 (NT dollar)\n",
    "PAY_AMT3: Amount of previous payment in July, 2005 (NT dollar)\n",
    "PAY_AMT4: Amount of previous payment in June, 2005 (NT dollar)\n",
    "PAY_AMT5: Amount of previous payment in May, 2005 (NT dollar)\n",
    "PAY_AMT6: Amount of previous payment in April, 2005 (NT dollar)\n",
    "default.payment.next.month: Default payment (1=yes, 0=no)"
   ]
  },
  {
   "cell_type": "markdown",
   "metadata": {},
   "source": [
    "# 3. Data Transformation and EDA\n",
    "\n",
    "Any transformations that you apply to the data prior to training. Also, any exploration of the data that you performed such as visualization, feature selection, etc.\n"
   ]
  },
  {
   "cell_type": "markdown",
   "metadata": {},
   "source": [
    "### Load the datasets"
   ]
  },
  {
   "cell_type": "code",
   "execution_count": 3,
   "metadata": {},
   "outputs": [],
   "source": [
    "df_train = pd.read_csv(\"DataFiles/CreditCard_train.csv\",header = 1)\n",
    "df_test = pd.read_csv(\"DataFiles/CreditCard_test.csv\",header = 1)\n",
    "all_data = pd.concat([df_train,df_test])"
   ]
  },
  {
   "cell_type": "code",
   "execution_count": 4,
   "metadata": {},
   "outputs": [
    {
     "name": "stdout",
     "output_type": "stream",
     "text": [
      "<class 'pandas.core.frame.DataFrame'>\n",
      "Int64Index: 30000 entries, 0 to 5999\n",
      "Data columns (total 25 columns):\n",
      "ID                            30000 non-null int64\n",
      "LIMIT_BAL                     30000 non-null int64\n",
      "SEX                           30000 non-null int64\n",
      "EDUCATION                     30000 non-null int64\n",
      "MARRIAGE                      30000 non-null int64\n",
      "AGE                           30000 non-null int64\n",
      "PAY_0                         30000 non-null int64\n",
      "PAY_2                         30000 non-null int64\n",
      "PAY_3                         30000 non-null int64\n",
      "PAY_4                         30000 non-null int64\n",
      "PAY_5                         30000 non-null int64\n",
      "PAY_6                         30000 non-null int64\n",
      "BILL_AMT1                     30000 non-null int64\n",
      "BILL_AMT2                     30000 non-null int64\n",
      "BILL_AMT3                     30000 non-null int64\n",
      "BILL_AMT4                     30000 non-null int64\n",
      "BILL_AMT5                     30000 non-null int64\n",
      "BILL_AMT6                     30000 non-null int64\n",
      "PAY_AMT1                      30000 non-null int64\n",
      "PAY_AMT2                      30000 non-null int64\n",
      "PAY_AMT3                      30000 non-null int64\n",
      "PAY_AMT4                      30000 non-null int64\n",
      "PAY_AMT5                      30000 non-null int64\n",
      "PAY_AMT6                      30000 non-null int64\n",
      "default payment next month    30000 non-null int64\n",
      "dtypes: int64(25)\n",
      "memory usage: 6.0 MB\n"
     ]
    }
   ],
   "source": [
    "#check data types, features, null values\n",
    "all_data.info()"
   ]
  },
  {
   "cell_type": "code",
   "execution_count": null,
   "metadata": {},
   "outputs": [],
   "source": [
    "general_stats= all_data.describe().iloc[:,0:6]\n",
    "pay_status_stats = all_data.describe().iloc[:,6:12]\n",
    "bill_stats = all_data.describe().iloc[:,12:18]\n",
    "payed_stats = all_data.describe().iloc[:,18:24]"
   ]
  },
  {
   "cell_type": "code",
   "execution_count": null,
   "metadata": {},
   "outputs": [],
   "source": [
    "general_stats"
   ]
  },
  {
   "cell_type": "code",
   "execution_count": null,
   "metadata": {},
   "outputs": [],
   "source": [
    "pay_status_stats"
   ]
  },
  {
   "cell_type": "code",
   "execution_count": null,
   "metadata": {},
   "outputs": [],
   "source": [
    "bill_stats"
   ]
  },
  {
   "cell_type": "code",
   "execution_count": null,
   "metadata": {},
   "outputs": [],
   "source": [
    "payed_stats"
   ]
  },
  {
   "cell_type": "code",
   "execution_count": null,
   "metadata": {},
   "outputs": [],
   "source": [
    "pandas_profiling.ProfileReport(all_data)"
   ]
  },
  {
   "cell_type": "code",
   "execution_count": null,
   "metadata": {},
   "outputs": [],
   "source": [
    "# all_data.iplot()"
   ]
  },
  {
   "cell_type": "markdown",
   "metadata": {},
   "source": [
    "<font color=\"red\"> ------------Please elaborate on following graphs"
   ]
  },
  {
   "cell_type": "code",
   "execution_count": null,
   "metadata": {},
   "outputs": [],
   "source": [
    "for c in all_data.columns[2:12]:\n",
    "    fig, ax = plt.subplots(figsize=(10,6))\n",
    "    sns.countplot(x = c, hue=\"default payment next month\", data = all_data)"
   ]
  },
  {
   "cell_type": "markdown",
   "metadata": {},
   "source": [
    "Because the the encoding for payment status ranged from -2 to infinitive, and the less is the better. We can add up all the payment status and use the sum to plot a graph. We can divide the data into two groups which are \"ltz\": less than zero and \"mtz\":more than zero, and investigate the percentage of getting default next month in each group."
   ]
  },
  {
   "cell_type": "code",
   "execution_count": null,
   "metadata": {},
   "outputs": [],
   "source": [
    "all_data[\"cumsum\"] = all_data[\"PAY_0\"] + all_data[\"PAY_2\"] + all_data[\"PAY_3\"] + all_data[\"PAY_4\"] + all_data[\"PAY_5\"] + all_data[\"PAY_6\"]"
   ]
  },
  {
   "cell_type": "code",
   "execution_count": null,
   "metadata": {},
   "outputs": [],
   "source": [
    "fig, ax = plt.subplots(figsize=(15,10))\n",
    "sns.countplot(x = \"cumsum\", hue=\"default payment next month\", data = all_data)"
   ]
  },
  {
   "cell_type": "code",
   "execution_count": null,
   "metadata": {},
   "outputs": [],
   "source": [
    "ltz = all_data[all_data[\"cumsum\"]<=0]\n",
    "mtz = all_data[all_data[\"cumsum\"]>0]"
   ]
  },
  {
   "cell_type": "code",
   "execution_count": null,
   "metadata": {},
   "outputs": [],
   "source": [
    "ltz = all_data[all_data[\"cumsum\"]<=0]\n",
    "mtz = all_data[all_data[\"cumsum\"]>0]\n",
    "ltz_1 = ltz[\"default payment next month\"][ltz[\"default payment next month\"]==1].count()/len(ltz)\n",
    "mtz_1 = mtz[\"default payment next month\"][mtz[\"default payment next month\"]==1].count()/len(mtz)\n",
    "ltz_1, mtz_1"
   ]
  },
  {
   "cell_type": "markdown",
   "metadata": {},
   "source": [
    "From the above results, we can see that only 13.8% of the \"ltz\" group will get a default of 1, while 48.7% the \"mtz\" group will get a default of 1."
   ]
  },
  {
   "cell_type": "code",
   "execution_count": null,
   "metadata": {},
   "outputs": [],
   "source": [
    "bills = ['LIMIT_BAL','BILL_AMT1', 'BILL_AMT2',\n",
    "       'BILL_AMT3', 'BILL_AMT4', 'BILL_AMT5', 'BILL_AMT6', 'PAY_AMT1',\n",
    "       'PAY_AMT2', 'PAY_AMT3', 'PAY_AMT4', 'PAY_AMT5', 'PAY_AMT6']\n",
    "for c in bills:\n",
    "    fig, ax = plt.subplots(figsize=(10,6))\n",
    "    n, bins, patches = plt.hist(x=all_data[c], bins='auto', color='#0504aa', rwidth=0.85)\n",
    "    "
   ]
  },
  {
   "cell_type": "markdown",
   "metadata": {},
   "source": [
    "From the above diagram, we can see that the data is highly skewed, transformation is necessary  before trainning so that the data do not negatively affect the performance of a learning algorithm. Later I will be using a logarithmic transformation significantly to reduce the range of values caused by outliers."
   ]
  },
  {
   "cell_type": "markdown",
   "metadata": {},
   "source": [
    "# 4. Data Cleaning"
   ]
  },
  {
   "cell_type": "code",
   "execution_count": 5,
   "metadata": {},
   "outputs": [],
   "source": [
    "def clean(data):\n",
    "    \n",
    "    data = data.rename(columns={\"PAY_0\": \"PAY_1\"}) #rename the feature PAY_0 to keep the names consistent\n",
    "    \n",
    "    sex = {2:0} #0:female,1:male\n",
    "    data[\"SEX\"] = data[\"SEX\"].replace(sex)\n",
    "    \n",
    "    data[\"EDUCATION\"].replace([0,5,6], 4, inplace = True)\n",
    "    data[\"MARRIAGE\"].replace([0], 3, inplace = True)\n",
    "    \n",
    "    Y = data['default payment next month']\n",
    "    data.drop('default payment next month', axis = 1,inplace = True)\n",
    "    data.drop('ID', axis = 1,inplace = True)\n",
    "    train = data\n",
    "    \n",
    "    #Normalise the range\n",
    "    bills = ['LIMIT_BAL','BILL_AMT1', 'BILL_AMT2',\n",
    "       'BILL_AMT3', 'BILL_AMT4', 'BILL_AMT5', 'BILL_AMT6', 'PAY_AMT1',\n",
    "       'PAY_AMT2', 'PAY_AMT3', 'PAY_AMT4', 'PAY_AMT5', 'PAY_AMT6']\n",
    "    \n",
    "    features_cubic_transformed = train\n",
    "    features_cubic_transformed[bills] = train[bills].apply(lambda x: np.sign(x) * np.power(abs(x), 1./3))\n",
    "    \n",
    "    # scale all numerical data\n",
    "    numerical = ['LIMIT_BAL', 'AGE', 'PAY_1', 'PAY_2',\n",
    "       'PAY_3', 'PAY_4', 'PAY_5', 'PAY_6', 'BILL_AMT1', 'BILL_AMT2',\n",
    "       'BILL_AMT3', 'BILL_AMT4', 'BILL_AMT5', 'BILL_AMT6', 'PAY_AMT1',\n",
    "       'PAY_AMT2', 'PAY_AMT3', 'PAY_AMT4', 'PAY_AMT5', 'PAY_AMT6']\n",
    "    \n",
    "    scaler = MinMaxScaler()\n",
    "    features_cubic_transformed[numerical] = scaler.fit_transform(features_cubic_transformed[numerical])\n",
    "    \n",
    "    final = pd.get_dummies(features_cubic_transformed, columns = [\"EDUCATION\",\"MARRIAGE\"])\n",
    "    \n",
    "    return final,Y"
   ]
  },
  {
   "cell_type": "code",
   "execution_count": 6,
   "metadata": {},
   "outputs": [],
   "source": [
    "# for c in bills:\n",
    "#     fig, ax = plt.subplots(figsize=(10,6))\n",
    "#     n, bins, patches = plt.hist(x=features_cubic_transformed[c], bins='auto', color='#0504aa', rwidth=0.85)"
   ]
  },
  {
   "cell_type": "code",
   "execution_count": 7,
   "metadata": {},
   "outputs": [],
   "source": [
    "X,Y = clean(all_data)"
   ]
  },
  {
   "cell_type": "code",
   "execution_count": 9,
   "metadata": {},
   "outputs": [
    {
     "name": "stdout",
     "output_type": "stream",
     "text": [
      "Training set has 24000 samples.\n",
      "Testing set has 6000 samples.\n"
     ]
    }
   ],
   "source": [
    "from sklearn.model_selection import train_test_split\n",
    "\n",
    "# Split the 'features' and 'income' data into training and testing sets\n",
    "train_x, test_x, train_y, test_y= train_test_split(X, \n",
    "                                                    Y, \n",
    "                                                    test_size = 0.2, \n",
    "                                                    random_state = 41)\n",
    "\n",
    "# Show the results of the split\n",
    "print(\"Training set has {} samples.\".format(train_x.shape[0]))\n",
    "print(\"Testing set has {} samples.\".format(test_x.shape[0]))"
   ]
  },
  {
   "cell_type": "markdown",
   "metadata": {},
   "source": [
    "Investigate the effect on the accuracy when using different scaler"
   ]
  },
  {
   "cell_type": "code",
   "execution_count": 10,
   "metadata": {},
   "outputs": [],
   "source": [
    "otrain_y = df_train['default payment next month']\n",
    "df_train.drop('default payment next month', axis = 1,inplace = True)\n",
    "df_train.drop('ID', axis = 1,inplace = True)\n",
    "otrain_x = df_train\n",
    "otest_y = df_test['default payment next month']\n",
    "df_test.drop('default payment next month', axis = 1,inplace = True)\n",
    "df_test.drop('ID', axis = 1,inplace = True)\n",
    "otest_x = df_test"
   ]
  },
  {
   "cell_type": "code",
   "execution_count": 83,
   "metadata": {},
   "outputs": [
    {
     "data": {
      "text/html": [
       "<div>\n",
       "<style scoped>\n",
       "    .dataframe tbody tr th:only-of-type {\n",
       "        vertical-align: middle;\n",
       "    }\n",
       "\n",
       "    .dataframe tbody tr th {\n",
       "        vertical-align: top;\n",
       "    }\n",
       "\n",
       "    .dataframe thead th {\n",
       "        text-align: right;\n",
       "    }\n",
       "</style>\n",
       "<table border=\"1\" class=\"dataframe\">\n",
       "  <thead>\n",
       "    <tr style=\"text-align: right;\">\n",
       "      <th></th>\n",
       "      <th>1</th>\n",
       "      <th>6</th>\n",
       "      <th>11</th>\n",
       "      <th>16</th>\n",
       "      <th>21</th>\n",
       "      <th>26</th>\n",
       "      <th>31</th>\n",
       "      <th>36</th>\n",
       "      <th>41</th>\n",
       "      <th>46</th>\n",
       "      <th>51</th>\n",
       "      <th>56</th>\n",
       "      <th>61</th>\n",
       "    </tr>\n",
       "  </thead>\n",
       "  <tbody>\n",
       "    <tr>\n",
       "      <th>0</th>\n",
       "      <td>0.822333</td>\n",
       "      <td>0.817833</td>\n",
       "      <td>0.818167</td>\n",
       "      <td>0.818667</td>\n",
       "      <td>0.8170</td>\n",
       "      <td>0.815500</td>\n",
       "      <td>0.816000</td>\n",
       "      <td>0.817000</td>\n",
       "      <td>0.817500</td>\n",
       "      <td>0.817167</td>\n",
       "      <td>0.817667</td>\n",
       "      <td>0.819333</td>\n",
       "      <td>0.822333</td>\n",
       "    </tr>\n",
       "    <tr>\n",
       "      <th>1</th>\n",
       "      <td>0.830667</td>\n",
       "      <td>0.828167</td>\n",
       "      <td>0.825667</td>\n",
       "      <td>0.825833</td>\n",
       "      <td>0.8265</td>\n",
       "      <td>0.827167</td>\n",
       "      <td>0.826333</td>\n",
       "      <td>0.827167</td>\n",
       "      <td>0.826833</td>\n",
       "      <td>0.827833</td>\n",
       "      <td>0.827167</td>\n",
       "      <td>0.827667</td>\n",
       "      <td>0.830667</td>\n",
       "    </tr>\n",
       "  </tbody>\n",
       "</table>\n",
       "</div>"
      ],
      "text/plain": [
       "         1         6         11        16      21        26        31  \\\n",
       "0  0.822333  0.817833  0.818167  0.818667  0.8170  0.815500  0.816000   \n",
       "1  0.830667  0.828167  0.825667  0.825833  0.8265  0.827167  0.826333   \n",
       "\n",
       "         36        41        46        51        56        61  \n",
       "0  0.817000  0.817500  0.817167  0.817667  0.819333  0.822333  \n",
       "1  0.827167  0.826833  0.827833  0.827167  0.827667  0.830667  "
      ]
     },
     "execution_count": 83,
     "metadata": {},
     "output_type": "execute_result"
    }
   ],
   "source": [
    "first = []\n",
    "second = []\n",
    "for n in range(1,60,5):\n",
    "    clf1 = AdaBoostClassifier(random_state=41,n_estimators = n)\n",
    "    clf1.fit(train_x,train_y)\n",
    "    accuracy1 = clf1.score(test_x,test_y)\n",
    "    first.append(accuracy1)\n",
    "    \n",
    "    \n",
    "    clf2 = AdaBoostClassifier(random_state=41,n_estimators = n)\n",
    "    clf2.fit(otrain_x,otrain_y)\n",
    "    accuracy2 = clf2.score(otest_x,otest_y)\n",
    "    second.append(accuracy2)\n",
    "    \n",
    "first.append(max(first))\n",
    "second.append(max(second))\n",
    "    \n",
    "accuracy_table = pd.DataFrame([first, second], columns = range(1,65,5))    \n",
    "    \n",
    "accuracy_table         "
   ]
  },
  {
   "cell_type": "code",
   "execution_count": 84,
   "metadata": {},
   "outputs": [
    {
     "data": {
      "text/plain": [
       "[<matplotlib.lines.Line2D at 0x1c2940f390>]"
      ]
     },
     "execution_count": 84,
     "metadata": {},
     "output_type": "execute_result"
    },
    {
     "data": {
      "image/png": "[encoded data removed]",
      "text/plain": [
       "<Figure size 432x288 with 1 Axes>"
      ]
     },
     "metadata": {
      "needs_background": "light"
     },
     "output_type": "display_data"
    }
   ],
   "source": [
    "plt.plot(first)"
   ]
  },
  {
   "cell_type": "code",
   "execution_count": 85,
   "metadata": {},
   "outputs": [
    {
     "data": {
      "text/plain": [
       "[<matplotlib.lines.Line2D at 0x1c2951d080>]"
      ]
     },
     "execution_count": 85,
     "metadata": {},
     "output_type": "execute_result"
    },
    {
     "data": {
      "image/png": "[encoded data removed]",
      "text/plain": [
       "<Figure size 432x288 with 1 Axes>"
      ]
     },
     "metadata": {
      "needs_background": "light"
     },
     "output_type": "display_data"
    }
   ],
   "source": [
    "plt.plot(second)"
   ]
  },
  {
   "cell_type": "code",
   "execution_count": 87,
   "metadata": {},
   "outputs": [],
   "source": [
    "importances = clf2.feature_importances_\n",
    "import_list = importances.tolist()\n",
    "df= pd.DataFrame(import_list, index = otrain_x.columns)\n",
    "df.columns = [\"clf2\"]\n",
    "df= pd.DataFrame(import_list, index = otrain_x.columns)\n",
    "df.columns = [\"clf2\"]"
   ]
  },
  {
   "cell_type": "markdown",
   "metadata": {},
   "source": [
    "# 5. Methodology Overview\n",
    "\n",
    "Start by describing in broad terms your methodology. Include any background reading you may have done and a step by step description of how you have trained and evaluated your model. Describe any feature engineering that you have applied. If you had attempted different approaches prior to landing on your final methodology, then describe those approaches here.\n"
   ]
  },
  {
   "cell_type": "markdown",
   "metadata": {},
   "source": [
    "### Model Selection"
   ]
  },
  {
   "cell_type": "code",
   "execution_count": 19,
   "metadata": {},
   "outputs": [],
   "source": [
    "def train_predict(learner, X_train, y_train, X_test, y_test): \n",
    "    results = {}\n",
    "    \n",
    "    # Fit the learner\n",
    "    start = time() # Get start time\n",
    "    learner.fit(X_train, y_train)\n",
    "    end = time() # Get end time\n",
    "    # Calculate the training time\n",
    "    results['train_time'] = end-start\n",
    "\n",
    "    start = time() # Get start time\n",
    "    predictions_test = learner.predict(X_test)\n",
    "    predictions_train = learner.predict(X_train)\n",
    "    end = time() # Get end time\n",
    "    \n",
    "    results['pred_time'] = end-start\n",
    "    results['acc_train'] = accuracy_score(y_train,predictions_train)\n",
    "    results['acc_test'] = accuracy_score(y_test,predictions_test)\n",
    "    results['f_train'] = fbeta_score(y_train,predictions_train,beta = 0.5)\n",
    "    results['f_test'] = fbeta_score(y_test,predictions_test, beta = 0.5)\n",
    "       \n",
    "    # Success\n",
    "    print(\"{} trained on {} samples.\".format(learner.__class__.__name__))\n",
    "        \n",
    "    # Return the results\n",
    "    return results"
   ]
  },
  {
   "cell_type": "code",
   "execution_count": 24,
   "metadata": {},
   "outputs": [
    {
     "name": "stdout",
     "output_type": "stream",
     "text": [
      "AdaBoostClassifier trained on 24000 samples.\n"
     ]
    },
    {
     "name": "stderr",
     "output_type": "stream",
     "text": [
      "/Users/sdu/anaconda3/lib/python3.7/site-packages/sklearn/svm/base.py:193: FutureWarning:\n",
      "\n",
      "The default value of gamma will change from 'auto' to 'scale' in version 0.22 to account better for unscaled features. Set gamma explicitly to 'auto' or 'scale' to avoid this warning.\n",
      "\n"
     ]
    },
    {
     "name": "stdout",
     "output_type": "stream",
     "text": [
      "SVC trained on 24000 samples.\n",
      "KNeighborsClassifier trained on 24000 samples.\n"
     ]
    },
    {
     "name": "stderr",
     "output_type": "stream",
     "text": [
      "/Users/sdu/anaconda3/lib/python3.7/site-packages/sklearn/ensemble/forest.py:245: FutureWarning:\n",
      "\n",
      "The default value of n_estimators will change from 10 in version 0.20 to 100 in 0.22.\n",
      "\n"
     ]
    },
    {
     "name": "stdout",
     "output_type": "stream",
     "text": [
      "RandomForestClassifier trained on 24000 samples.\n",
      "BaggingClassifier trained on 24000 samples.\n",
      "DecisionTreeClassifier trained on 24000 samples.\n",
      "GradientBoostingClassifier trained on 24000 samples.\n"
     ]
    }
   ],
   "source": [
    "# Import the three supervised learning models from sklearn\n",
    "from sklearn.tree import DecisionTreeClassifier\n",
    "from sklearn.ensemble import RandomForestClassifier,AdaBoostClassifier,BaggingClassifier\n",
    "from sklearn.svm import SVC\n",
    "from sklearn.neighbors import KNeighborsClassifier\n",
    "tt = []\n",
    "atr = []\n",
    "ftr = []\n",
    "pt = []\n",
    "at = []\n",
    "ft = []\n",
    "\n",
    "# Initialize the models\n",
    "clf_A = AdaBoostClassifier(random_state = 42)\n",
    "clf_B = SVC(random_state = 42)\n",
    "clf_C = KNeighborsClassifier()\n",
    "clf_D = RandomForestClassifier(random_state = 42)\n",
    "clf_E = BaggingClassifier(random_state = 42)\n",
    "clf_F = DecisionTreeClassifier(random_state = 42)\n",
    "clf_G = GradientBoostingClassifier(random_state = 42)\n",
    "\n",
    "# Collect results on the learners\n",
    "results = {}\n",
    "for clf in [clf_A, clf_B, clf_C, clf_D, clf_E, clf_F, clf_G]:\n",
    "    clf_name = clf.__class__.__name__\n",
    "    results[clf_name] = {}\n",
    "    results[clf_name] = \\\n",
    "    train_predict(clf, 24000, train_x, train_y, test_x, test_y)\n",
    "    \n",
    "    \n",
    "for j, metric in enumerate(['train_time', 'acc_train', 'f_train', 'pred_time', 'acc_test', 'f_test']):\n",
    "    for k, learner in enumerate(results.keys()):\n",
    "        if j == 0:\n",
    "            tt.append(results[learner][metric])\n",
    "        if j == 1:\n",
    "            atr.append(results[learner][metric])\n",
    "        if j == 2:\n",
    "            ftr.append(results[learner][metric])\n",
    "        if j == 3:\n",
    "            pt.append(results[learner][metric])\n",
    "        if j == 4:\n",
    "            at.append(results[learner][metric])\n",
    "        if j == 5:\n",
    "            ft.append(results[learner][metric])   "
   ]
  },
  {
   "cell_type": "code",
   "execution_count": 171,
   "metadata": {},
   "outputs": [
    {
     "data": {
      "image/png": "[encoded data removed]",
      "text/plain": [
       "<Figure size 1296x720 with 6 Axes>"
      ]
     },
     "metadata": {
      "needs_background": "light"
     },
     "output_type": "display_data"
    }
   ],
   "source": [
    "fig, ax = plt.subplots(2, 3, figsize = (18,10))\n",
    "colors = ['red','orange','yellow','green','blue','violet','purple']\n",
    "ax[0,0].bar(range(len(results)), tt, align='center',color = colors)\n",
    "ax[0,1].bar(range(len(results)), atr, align='center',color = colors)\n",
    "ax[0,2].bar(range(len(results)), ftr, align='center',color = colors)\n",
    "ax[1,0].bar(range(len(results)), pt, align='center',color = colors)\n",
    "ax[1,1].bar(range(len(results)), at, align='center',color = colors)\n",
    "ax[1,2].bar(range(len(results)), ft, align='center',color = colors)\n",
    "\n",
    " # Add titles\n",
    "ax[0, 0].set_title(\"Model Training Time\")\n",
    "ax[0, 1].set_title(\"Accuracy Score on Training Subset\")\n",
    "ax[0, 2].set_title(\"F-score on Training Subset\")\n",
    "ax[1, 0].set_title(\"Model Predicting Time\")\n",
    "ax[1, 1].set_title(\"Accuracy Score on Testing Set\")\n",
    "ax[1, 2].set_title(\"F-score on Testing Set\")\n",
    "\n",
    "# Add unique y-labels\n",
    "ax[0, 0].set_ylabel(\"Time (in seconds)\")\n",
    "ax[0, 1].set_ylabel(\"Accuracy Score\")\n",
    "ax[0, 2].set_ylabel(\"F-score\")\n",
    "ax[1, 0].set_ylabel(\"Time (in seconds)\")\n",
    "ax[1, 1].set_ylabel(\"Accuracy Score\")\n",
    "ax[1, 2].set_ylabel(\"F-score\")\n",
    "\n",
    " # Create patches for the legend\n",
    "patches = []\n",
    "for i, learner in enumerate(results.keys()):\n",
    "    patches.append(mpatches.Patch(color = colors[i], label = learner))\n",
    "plt.legend(handles = patches, bbox_to_anchor = (-.80, 2.63), loc = 'upper center', borderaxespad = 0., ncol = 3, fontsize = 'x-large')\n",
    "\n",
    "plt.suptitle(\"Performance Metrics for Three Supervised Learning Models\", fontsize = 16, y = 1.10)\n",
    "plt.show()"
   ]
  },
  {
   "cell_type": "markdown",
   "metadata": {},
   "source": [
    "<font color=\"red\"> # fill this in \n",
    "Based on the above graph, we can see that the best model for this project is .......because......"
   ]
  },
  {
   "cell_type": "markdown",
   "metadata": {},
   "source": [
    "# 6. Model training/validation\n",
    "\n",
    "This contains a breakdown of how your model was trained and evaluated.\n"
   ]
  },
  {
   "cell_type": "markdown",
   "metadata": {},
   "source": [
    "# 7. Results\n",
    "\n",
    "Here you show the results that you obtain using your model on the training data. If you have multiple variations or approaches, this is where you compare them.\n"
   ]
  },
  {
   "cell_type": "markdown",
   "metadata": {},
   "source": [
    "# 8. Final predictions\n",
    "\n",
    "This is the section where you perform your final predictions on the test set using the model that you have trained in the previous section.\n"
   ]
  },
  {
   "cell_type": "markdown",
   "metadata": {},
   "source": [
    "# Todo list\n",
    "+ runtime vs 的图\n",
    "+ limit 和每月bill的差\n",
    "+ 每月pay和bill的差\n",
    "+ auto tune vs"
   ]
  }
 ],
 "metadata": {
  "kernelspec": {
   "display_name": "Python 3",
   "language": "python",
   "name": "python3"
  },
  "language_info": {
   "codemirror_mode": {
    "name": "ipython",
    "version": 3
   },
   "file_extension": ".py",
   "mimetype": "text/x-python",
   "name": "python",
   "nbconvert_exporter": "python",
   "pygments_lexer": "ipython3",
   "version": "3.7.3"
  }
 },
 "nbformat": 4,
 "nbformat_minor": 2
}
